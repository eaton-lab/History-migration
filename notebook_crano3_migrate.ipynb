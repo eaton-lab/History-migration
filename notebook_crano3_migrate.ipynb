{
 "cells": [
  {
   "cell_type": "markdown",
   "metadata": {},
   "source": [
    "#Cranolopha project \n",
    "## Notebook 3: migrate-n analysis\n",
    "#### D. Eaton, S-Q. Huang & R. Ree\n",
    "#### contact: deren.eaton@yale.edu\n",
    "--------------------------    \n"
   ]
  },
  {
   "cell_type": "markdown",
   "metadata": {},
   "source": [
    "### Organization"
   ]
  },
  {
   "cell_type": "code",
   "execution_count": 1,
   "metadata": {
    "collapsed": true
   },
   "outputs": [],
   "source": [
    "%%bash\n",
    "mkdir -p analysis_migrate"
   ]
  },
  {
   "cell_type": "markdown",
   "metadata": {},
   "source": [
    "####  A summary of settings in the parm file: \n",
    "\n",
    "+ Use Bayesian method\n",
    "+ per-rep burn-in = 1M\n",
    "+ per-rep chain = 10M\n",
    "+ per-rep samples = 10M/25 = 400K  ## could probably raise this to 100\n",
    "+ 4 replicates\n",
    "+ Uniform priors on theta\n",
    "+ wExp priors on migration\n",
    "+ symmetric all-by-all migration matrix with variable thetas"
   ]
  },
  {
   "cell_type": "markdown",
   "metadata": {},
   "source": [
    "### The full parm input file is available on github\n",
    "It it too long to print the whole thing here. \n",
    "[www.github.com/dereneaton/cranolopha/...](linklinklink)\n",
    "\n"
   ]
  },
  {
   "cell_type": "markdown",
   "metadata": {},
   "source": [
    "#### Below are all of the changes made relative to the defult parm file in _migrate-n_."
   ]
  },
  {
   "cell_type": "code",
   "execution_count": 8,
   "metadata": {
    "collapsed": false,
    "scrolled": true
   },
   "outputs": [
    {
     "name": "stdout",
     "output_type": "stream",
     "text": [
      "4c4\n",
      "< # Tue Apr  7 12:21:55 2015\n",
      "---\n",
      "> # Tue Nov 25 00:36:12 2014\n",
      "154c154\n",
      "< infile=infile\n",
      "---\n",
      "> infile=/home/deren/Documents/CRANO2/analysis_pyrad/outfiles/c90d6m60p30_noutg_g6.migrate\n",
      "161c161\n",
      "< random-seed=AUTO #OWN:357105923\n",
      "---\n",
      "> random-seed=AUTO #OWN:354223294\n",
      "165c165\n",
      "< title=\n",
      "---\n",
      "> title=                                          crano2_g6\n",
      "197c197\n",
      "< outfile=outfile\n",
      "---\n",
      "> outfile=analysis_migrate/crano2_g6\n",
      "203c203\n",
      "< pdf-outfile=outfile.pdf\n",
      "---\n",
      "> pdf-outfile=analysis_migrate/crano2_g6.pdf\n",
      "248c248\n",
      "< profile=ALL:PRECISE\n",
      "---\n",
      "> profile=NONE\n",
      "259c259\n",
      "< print-tree=NONE\n",
      "---\n",
      "> print-tree=BEST:analysis_migrate/crano2_g6.trees\n",
      "267c267\n",
      "< write-summary=NO\n",
      "---\n",
      "> write-summary=YES:analysis_migrate/crano2_g6.sumfile\n",
      "396c396,411\n",
      "< custom-migration={**}\n",
      "---\n",
      "> custom-migration={*ssssssssssssss\n",
      ">                   s*sssssssssssss\n",
      ">                   ss*ssssssssssss\n",
      ">                   sss*sssssssssss\n",
      ">                   ssss*ssssssssss\n",
      ">                   sssss*sssssssss\n",
      ">                   ssssss*ssssssss\n",
      ">                   sssssss*sssssss\n",
      ">                   ssssssss*ssssss\n",
      ">                   sssssssss*sssss\n",
      ">                   ssssssssss*ssss\n",
      ">                   sssssssssss*sss\n",
      ">                   ssssssssssss*ss\n",
      ">                   sssssssssssss*s\n",
      ">                   ssssssssssssss*}\n",
      "> #custom-migration={***0000000000*****00000000000*****0000000000000***0000000000000***0000000000000***0000000000000***0#000000000000***0000000000000***0000000000000***0000000000000***0000000000000***0000000000000***0*00000000000*****0000#0000000**}\n",
      "479,482c494,497\n",
      "< bayes-posteriorbins=1500 1500\n",
      "< bayes-posteriormaxtype=TOTAL\n",
      "< bayes-file=NO\n",
      "< bayes-allfile=NO\n",
      "---\n",
      "> bayes-posteriorbins=500 500\n",
      "> bayes-posteriormaxtype=MAXP99\n",
      "> bayes-file=YES:analysis_migrate/crano2_g6.bayesfile\n",
      "> bayes-allfile=YES:1:analysis_migrate/crano2_g6.bayesallfile\n",
      "485,486c500,501\n",
      "< bayes-priors= THETA UNIFORMPRIOR: 0.000000 0.100000 0.010000 \n",
      "< bayes-priors= MIG UNIFORMPRIOR: 0.000000 1000.000000 100.000000 \n",
      "---\n",
      "> bayes-priors= THETA UNIFORMPRIOR: 0.00000 0.050000 0.005000 \n",
      "> bayes-priors= MIG EXPPRIOR: 0.00000 50.000000 1000.000000 20.00000\n",
      "489,491c504,506\n",
      "< long-inc=100\n",
      "< long-sample=5000\n",
      "< burn-in=10000  \n",
      "---\n",
      "> long-inc=25\n",
      "> long-sample=400000\n",
      "> burn-in=40000  \n",
      "510c525,526\n",
      "< heating=NO\n",
      "---\n",
      "> heating=YES:1:{1.000000,1.500000,3.000000,1000000.000000}\n",
      "> heated-swap=YES\n",
      "537c553\n",
      "< replicate=NO\n",
      "---\n",
      "> replicate=YES:4\n",
      "544c560\n",
      "< resistance=0.000001\n",
      "---\n",
      "> resistance=0.000100\n"
     ]
    }
   ],
   "source": [
    "%%bash\n",
    "diff parmfile analysis_migrate/crano2_g6_mig.parm"
   ]
  },
  {
   "cell_type": "markdown",
   "metadata": {},
   "source": [
    "### Run migrate-n using custom parm file and 38 parallel processors\n",
    "This analysis took approximately __xx months__ to finish, or __xx years of processing time on a single CPU.__"
   ]
  },
  {
   "cell_type": "code",
   "execution_count": null,
   "metadata": {
    "collapsed": true
   },
   "outputs": [],
   "source": [
    "%%bash\n",
    "## mpirun -np 38 analysis_migrate/crano2_g6_mig6.parm"
   ]
  },
  {
   "cell_type": "markdown",
   "metadata": {},
   "source": [
    "### How many parameters to estimate in full matrix?"
   ]
  },
  {
   "cell_type": "code",
   "execution_count": 12,
   "metadata": {
    "collapsed": false
   },
   "outputs": [
    {
     "data": {
      "text/plain": [
       "113.0"
      ]
     },
     "execution_count": 12,
     "metadata": {},
     "output_type": "execute_result"
    }
   ],
   "source": [
    "15+((14*14)/2.)"
   ]
  },
  {
   "cell_type": "code",
   "execution_count": null,
   "metadata": {
    "collapsed": true
   },
   "outputs": [],
   "source": []
  }
 ],
 "metadata": {
  "kernelspec": {
   "display_name": "Python 2",
   "language": "python",
   "name": "python2"
  },
  "language_info": {
   "codemirror_mode": {
    "name": "ipython",
    "version": 2
   },
   "file_extension": ".py",
   "mimetype": "text/x-python",
   "name": "python",
   "nbconvert_exporter": "python",
   "pygments_lexer": "ipython2",
   "version": "2.7.3"
  }
 },
 "nbformat": 4,
 "nbformat_minor": 0
}
